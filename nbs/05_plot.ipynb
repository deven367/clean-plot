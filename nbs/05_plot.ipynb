{
 "cells": [
  {
   "cell_type": "code",
   "execution_count": null,
   "id": "e829f095",
   "metadata": {},
   "outputs": [],
   "source": [
    "# default_exp plot"
   ]
  },
  {
   "cell_type": "markdown",
   "id": "426d8018",
   "metadata": {},
   "source": [
    "# Plot\n",
    "> This module tries to include most of the plotting functionality available in the package"
   ]
  },
  {
   "cell_type": "code",
   "execution_count": null,
   "id": "b2cde59e",
   "metadata": {},
   "outputs": [],
   "source": [
    "#export\n",
    "from fastcore.basics import store_attr\n",
    "from fastcore.xtras import globtastic\n",
    "from fastcore.meta import delegates"
   ]
  },
  {
   "cell_type": "code",
   "execution_count": null,
   "id": "d40153c2",
   "metadata": {},
   "outputs": [],
   "source": [
    "#export \n",
    "#hide\n",
    "import inspect"
   ]
  },
  {
   "cell_type": "code",
   "execution_count": null,
   "id": "0c04e9eb",
   "metadata": {},
   "outputs": [],
   "source": [
    "#export \n",
    "class Plot:\n",
    "    def __init__(self, path):\n",
    "        store_attr()\n",
    "        \n",
    "    @delegates(globtastic)\n",
    "    def view_all_files(self, **kwargs):\n",
    "        return globtastic(self.path, **kwargs)\n",
    "    \n",
    "    def create_ssms(self):\n",
    "        pass\n",
    "    \n",
    "    def get_normalized(self):\n",
    "        pass\n",
    "    \n",
    "    def get_standardized(self):\n",
    "        pass\n",
    "    \n",
    "    def get_corr_plots(self):\n",
    "        pass"
   ]
  },
  {
   "cell_type": "code",
   "execution_count": null,
   "id": "c970dcfb",
   "metadata": {},
   "outputs": [],
   "source": [
    "plotter = Plot('./')"
   ]
  },
  {
   "cell_type": "code",
   "execution_count": null,
   "id": "240cf158",
   "metadata": {},
   "outputs": [
    {
     "data": {
      "text/plain": [
       "(#8) ['./03_lexical.ipynb','./01_functions.ipynb','./_not_finished.ipynb','./02_pickle.ipynb','./04_heatmaps_novels.ipynb','./index.ipynb','./05_plot.ipynb','./00_core.ipynb']"
      ]
     },
     "execution_count": null,
     "metadata": {},
     "output_type": "execute_result"
    }
   ],
   "source": [
    "plotter.view_all_files(file_glob='*.ipynb', recursive = False)"
   ]
  },
  {
   "cell_type": "code",
   "execution_count": null,
   "id": "832b5a21",
   "metadata": {},
   "outputs": [
    {
     "data": {
      "text/plain": [
       "<Signature (recursive: bool = True, symlinks: bool = True, file_glob: str = None, file_re: str = None, folder_re: str = None, skip_file_glob: str = None, skip_file_re: str = None, skip_folder_re: str = None)>"
      ]
     },
     "execution_count": null,
     "metadata": {},
     "output_type": "execute_result"
    }
   ],
   "source": [
    "inspect.signature(plotter.view_all_files)\n",
    "# plotter.view_all_files()"
   ]
  }
 ],
 "metadata": {
  "kernelspec": {
   "display_name": "Python 3 (ipykernel)",
   "language": "python",
   "name": "python3"
  }
 },
 "nbformat": 4,
 "nbformat_minor": 5
}
