{
 "cells": [
  {
   "cell_type": "code",
   "execution_count": null,
   "id": "e829f095",
   "metadata": {},
   "outputs": [],
   "source": [
    "#|default_exp plot.utils"
   ]
  },
  {
   "cell_type": "markdown",
   "id": "426d8018",
   "metadata": {},
   "source": [
    "# Plot\n",
    "> This module tries to include most of the plotting functionality available in the package"
   ]
  },
  {
   "cell_type": "code",
   "execution_count": null,
   "id": "8a11a137",
   "metadata": {},
   "outputs": [],
   "source": [
    "%load_ext autoreload\n",
    "%autoreload 2"
   ]
  },
  {
   "cell_type": "code",
   "execution_count": null,
   "id": "b2cde59e",
   "metadata": {},
   "outputs": [],
   "source": [
    "#|export\n",
    "from fastcore.basics import store_attr, patch_to, patch\n",
    "from fastcore.xtras import globtastic\n",
    "from fastcore.meta import delegates\n",
    "from pathlib import Path\n",
    "import os \n",
    "import numpy as np\n",
    "from sklearn.metrics.pairwise import cosine_similarity\n",
    "from clean_plot.pickle import label\n",
    "from clean_plot.functions import normalize\n",
    "import seaborn as sns\n",
    "import matplotlib.pyplot as plt"
   ]
  },
  {
   "cell_type": "code",
   "execution_count": null,
   "id": "42232bac",
   "metadata": {},
   "outputs": [],
   "source": [
    "#export\n",
    "sns.set_style(style='white')"
   ]
  },
  {
   "cell_type": "code",
   "execution_count": null,
   "id": "d40153c2",
   "metadata": {},
   "outputs": [],
   "source": [
    "#|export \n",
    "#|hide\n",
    "import inspect"
   ]
  },
  {
   "cell_type": "code",
   "execution_count": null,
   "id": "0c04e9eb",
   "metadata": {},
   "outputs": [],
   "source": [
    "#|export \n",
    "class Plot:\n",
    "    def __init__(self, path):\n",
    "        self.path = Path(path)\n",
    "        self.norm = {}\n",
    "        self.book_name = self.path.stem.replace('_', ' ')\n",
    "        \n",
    "    @delegates(globtastic)\n",
    "    def view_all_files(self, **kwargs):\n",
    "        return globtastic(self.path, **kwargs)\n",
    "    \n",
    "    def create_ssms(self):\n",
    "        new_path = self.path/'full_plots'\n",
    "        new_path.mkdir(exist_ok=True)\n",
    "        \n",
    "        for method, norm_ssm in self.norm.items():\n",
    "            title = f'{self.book_name} {method}'\n",
    "            sns.heatmap(norm_ssm, cmap='hot', \n",
    "                        vmin=0, vmax=1, square=True, \n",
    "                        xticklabels=False)\n",
    "            length = norm_ssm.shape[0]\n",
    "            ticks = np.linspace(1, length, 5, dtype=int)\n",
    "            plt.yticks(ticks, ticks, rotation = 0)\n",
    "            plt.ylabel('sentence number')\n",
    "            plt.savefig(new_path/f'{title}.png', dpi = 300, bbox_inches='tight')\n",
    "            print(f'Done plotting {title}.png')\n",
    "            plt.clf()\n",
    "            del norm_ssm\n",
    "            \n",
    "    \n",
    "    def get_standardized(self, start, end):\n",
    "        pass\n",
    "        \n",
    "    \n",
    "    def get_corr_plots(self):\n",
    "        pass\n",
    "    \n",
    "    def get_sectional_ssms(self, start, end):\n",
    "        import gc\n",
    "        if start == 0 and end == -1:\n",
    "            pass\n",
    "        else:\n",
    "            assert start < end, 'Incorrect bounds'\n",
    "        new_path = self.path/f'sections_{start} {end}'\n",
    "        new_path.mkdir(exist_ok=True)\n",
    "        \n",
    "        if start == 0:\n",
    "            labels = np.linspace(start + 1, end, y, dtype=int)\n",
    "        else:\n",
    "            labels = np.linspace(start, end, y, dtype=int)\n",
    "        \n",
    "        ticks = np.linspace(1, end - start, y, dtype=int)\n",
    "        \n",
    "        for method, norm_ssm in self.norm.items():\n",
    "            title = f'{self.book_name} {method}'\n",
    "            sns.heatmap(norm_ssm[start:end, start:end], cmap='hot', \n",
    "                        vmin=0, vmax=1, square=True, \n",
    "                        xticklabels=False)\n",
    "            length = norm_ssm.shape[0]\n",
    "            \n",
    "            \n",
    "            \n",
    "            plt.yticks(ticks, ticks, rotation = 0)\n",
    "            plt.ylabel('sentence number')\n",
    "            plt.savefig(new_path/f'{title}.png', dpi = 300, bbox_inches='tight')\n",
    "            print(f'Done plotting {title}.png')\n",
    "            plt.clf()\n",
    "            del norm_ssm\n",
    "            _ = gc.collect()\n",
    "    \n",
    "    def __repr__(self):\n",
    "        # remember __str__ calls the __repr_ internally\n",
    "        dir_path = os.path.dirname(os.path.realpath(self.path))\n",
    "        return f'This object contains the path to `{dir_path}`'"
   ]
  },
  {
   "cell_type": "code",
   "execution_count": null,
   "id": "0f9376f0",
   "metadata": {},
   "outputs": [],
   "source": [
    "#|export\n",
    "@patch\n",
    "def get_normalized(self:Plot):\n",
    "    \"Returns the normalized ssms\"\n",
    "    files = self.view_all_files(file_glob='*.npy')\n",
    "    \n",
    "    for f in files:\n",
    "        f = Path(f)\n",
    "        fname = f.stem.split('_cleaned_')\n",
    "        book, method = fname[0], label(fname[1])\n",
    "        \n",
    "        title = f'{book.title()} {method}'\n",
    "\n",
    "        em = np.load(f)\n",
    "\n",
    "        if fname[1] == 'lexical_wt_ssm':\n",
    "            sim = em\n",
    "            print(em.shape)\n",
    "            n = normalize(sim)\n",
    "            # modifies the input array inplace\n",
    "            np.fill_diagonal(n, 1)\n",
    "        else:\n",
    "            sim = cosine_similarity(em, em)\n",
    "            n = normalize(sim)\n",
    "        \n",
    "        self.norm[method] = n\n",
    "        del em, sim, n\n",
    "    return self.norm"
   ]
  },
  {
   "cell_type": "code",
   "execution_count": null,
   "id": "739b86a1",
   "metadata": {},
   "outputs": [],
   "source": [
    "#local\n",
    "plotter = Plot('/home/deven/embeddings/A_Modest_Proposal')"
   ]
  },
  {
   "cell_type": "code",
   "execution_count": null,
   "id": "d9f0b52b",
   "metadata": {},
   "outputs": [
    {
     "data": {
      "text/plain": [
       "'A Modest Proposal'"
      ]
     },
     "execution_count": null,
     "metadata": {},
     "output_type": "execute_result"
    }
   ],
   "source": [
    "#local\n",
    "plotter.path.stem.replace('_', ' ')"
   ]
  },
  {
   "cell_type": "code",
   "execution_count": null,
   "id": "dee1924e",
   "metadata": {},
   "outputs": [
    {
     "data": {
      "text/plain": [
       "This object contains the path to `/home/deven/embeddings`"
      ]
     },
     "execution_count": null,
     "metadata": {},
     "output_type": "execute_result"
    }
   ],
   "source": [
    "#local\n",
    "plotter"
   ]
  },
  {
   "cell_type": "code",
   "execution_count": null,
   "id": "647a4b3e",
   "metadata": {},
   "outputs": [],
   "source": [
    "#local\n",
    "d = plotter.get_normalized()"
   ]
  },
  {
   "cell_type": "code",
   "execution_count": null,
   "id": "3aa203cd",
   "metadata": {},
   "outputs": [
    {
     "name": "stdout",
     "output_type": "stream",
     "text": [
      "(299, 299)\n",
      "(299, 299)\n",
      "(299, 299)\n",
      "(299, 299)\n",
      "(299, 299)\n",
      "(299, 299)\n",
      "(299, 299)\n",
      "(299, 299)\n"
     ]
    }
   ],
   "source": [
    "#local\n",
    "for k, v in d.items():\n",
    "    print(v.shape)"
   ]
  },
  {
   "cell_type": "code",
   "execution_count": null,
   "id": "c77d0ae5",
   "metadata": {},
   "outputs": [
    {
     "name": "stdout",
     "output_type": "stream",
     "text": [
      "Done plotting A Modest Proposal DeCLUTR Small.png\n",
      "Done plotting A Modest Proposal RoBERTa.png\n",
      "Done plotting A Modest Proposal InferSent GloVe.png\n",
      "Done plotting A Modest Proposal InferSent FastText.png\n",
      "Done plotting A Modest Proposal DistilBERT.png\n",
      "Done plotting A Modest Proposal MPNet.png\n",
      "Done plotting A Modest Proposal USE.png\n",
      "Done plotting A Modest Proposal DeCLUTR Base.png\n"
     ]
    },
    {
     "data": {
      "text/plain": [
       "<Figure size 432x288 with 0 Axes>"
      ]
     },
     "metadata": {},
     "output_type": "display_data"
    }
   ],
   "source": [
    "#local\n",
    "plotter.create_ssms()"
   ]
  },
  {
   "cell_type": "code",
   "execution_count": null,
   "id": "e823acfd-e0d9-413f-8868-d7b206af5b88",
   "metadata": {},
   "outputs": [],
   "source": [
    "class Foo:\n",
    "    def __init__(self, i):\n",
    "        self.i = i\n",
    "    def __repr__(self):\n",
    "        return f'Init value in i is {self.i}'\n",
    "    def __str__(self):\n",
    "        return f'idk what this does'\n",
    "        "
   ]
  },
  {
   "cell_type": "code",
   "execution_count": null,
   "id": "16b73cce",
   "metadata": {},
   "outputs": [],
   "source": [
    "x = Foo(5)"
   ]
  },
  {
   "cell_type": "code",
   "execution_count": null,
   "id": "6c384c16",
   "metadata": {},
   "outputs": [
    {
     "data": {
      "text/plain": [
       "Init value in i is 5"
      ]
     },
     "execution_count": null,
     "metadata": {},
     "output_type": "execute_result"
    }
   ],
   "source": [
    "x"
   ]
  },
  {
   "cell_type": "code",
   "execution_count": null,
   "id": "1d7e425d",
   "metadata": {},
   "outputs": [
    {
     "name": "stdout",
     "output_type": "stream",
     "text": [
      "idk what this does\n"
     ]
    }
   ],
   "source": [
    "print(x)"
   ]
  }
 ],
 "metadata": {
  "kernelspec": {
   "display_name": "Python 3 (ipykernel)",
   "language": "python",
   "name": "python3"
  }
 },
 "nbformat": 4,
 "nbformat_minor": 5
}
