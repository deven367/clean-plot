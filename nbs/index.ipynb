{
 "cells": [
  {
   "cell_type": "code",
   "execution_count": null,
   "metadata": {},
   "outputs": [],
   "source": [
    "#|hide\n",
    "from clean_plot.utils import *\n",
    "from nbdev import *"
   ]
  },
  {
   "cell_type": "code",
   "execution_count": null,
   "metadata": {},
   "outputs": [],
   "source": [
    "#|hide\n",
    "%load_ext autoreload\n",
    "%autoreload 2"
   ]
  },
  {
   "cell_type": "markdown",
   "metadata": {},
   "source": [
    "# Welcome to clean_plot\n",
    "\n",
    "> The library simplifies cleaning text files for creation of embeddings and making plots from it"
   ]
  },
  {
   "cell_type": "markdown",
   "metadata": {},
   "source": [
    "![CI](https://github.com/deven367/clean_plot/actions/workflows/test.yml/badge.svg)"
   ]
  },
  {
   "cell_type": "markdown",
   "metadata": {},
   "source": [
    "## Install"
   ]
  },
  {
   "cell_type": "markdown",
   "metadata": {},
   "source": [
    "The easiest way to install the library is to simply do a `pip` install. "
   ]
  },
  {
   "cell_type": "markdown",
   "metadata": {},
   "source": [
    "```\n",
    "pip install clean-plot\n",
    "```"
   ]
  },
  {
   "cell_type": "markdown",
   "metadata": {},
   "source": [
    "Another way to install the library would be to build from source. It is more likely that the released version may contain bugs. The source would get updated more often. If you plan to add features to `clean_plot` yourself, or want to be on the cutting edge, you can use an editable install."
   ]
  },
  {
   "cell_type": "markdown",
   "metadata": {},
   "source": [
    "```\n",
    "git clone https://github.com/deven367/clean_plot.git\n",
    "cd clean_plot\n",
    "pip install -e . \n",
    "```"
   ]
  },
  {
   "cell_type": "markdown",
   "metadata": {},
   "source": [
    "## How to use"
   ]
  },
  {
   "cell_type": "markdown",
   "metadata": {},
   "source": [
    "The library contains easy to use methods for cleaning text, tokenizing and lemmatizing sentences. These sentences can then be easily fed to a sentence encoder to create sentence embeddings."
   ]
  },
  {
   "cell_type": "code",
   "execution_count": null,
   "metadata": {},
   "outputs": [
    {
     "name": "stdout",
     "output_type": "stream",
     "text": [
      "MARLEY was dead: to begin with. There is no doubt\n",
      "whatever about that. The register of his burial was\n",
      "signed by the clergyman, the clerk, the undertaker,\n",
      "and the chief mourner. Scrooge signed it: and\n",
      "Scrooge's name was good upon 'Change, for anything he\n",
      "chose to put his hand to. Old Marley was as dead as a\n",
      "door-nail.\n",
      "\n",
      "Mind! I don't mean to say that I know, of my\n",
      "own knowledge, what there is particularly dead about\n",
      "a door-nail. I might have been inclined, myself, to\n",
      "regard a coffin-nail as the deadest piece of ironmongery\n",
      "in the trade. But the wisdom of our ancestors\n",
      "is in the simile; and my unhallowed hands\n",
      "shall not disturb it, or the Country's done for. You\n",
      "will therefore permit me to repeat, emphatically, that\n",
      "Marley was as dead as a door-nail.\n",
      "\n",
      "This is a new sentence.\n"
     ]
    }
   ],
   "source": [
    "fname = '../files/dummy.txt'\n",
    "text = get_data(fname)\n",
    "print(text)"
   ]
  },
  {
   "cell_type": "code",
   "execution_count": null,
   "metadata": {},
   "outputs": [],
   "source": [
    "sentences = make_sentences(text)"
   ]
  },
  {
   "cell_type": "code",
   "execution_count": null,
   "metadata": {},
   "outputs": [
    {
     "data": {
      "text/plain": [
       "(#11) ['MARLEY was dead: to begin with.','There is no doubt whatever about that.','The register of his burial was signed by the clergyman, the clerk, the undertaker, and the chief mourner.',\"Scrooge signed it: and Scrooge's name was good upon 'Change, for anything he chose to put his hand to.\",'Old Marley was as dead as a door-nail.','Mind!',\"I don't mean to say that I know, of my own knowledge, what there is particularly dead about a door-nail.\",'I might have been inclined, myself, to regard a coffin-nail as the deadest piece of ironmongery in the trade.',\"But the wisdom of our ancestors is in the simile; and my unhallowed hands shall not disturb it, or the Country's done for.\",'You will therefore permit me to repeat, emphatically, that Marley was as dead as a door-nail.'...]"
      ]
     },
     "execution_count": null,
     "metadata": {},
     "output_type": "execute_result"
    }
   ],
   "source": [
    "sentences"
   ]
  },
  {
   "cell_type": "code",
   "execution_count": null,
   "metadata": {},
   "outputs": [],
   "source": [
    "no_punctuations = []\n",
    "for sentence in sentences:\n",
    "    new_sentence = remove_punctuations(sentence)\n",
    "    no_punctuations.append(new_sentence)"
   ]
  },
  {
   "cell_type": "code",
   "execution_count": null,
   "metadata": {},
   "outputs": [
    {
     "data": {
      "text/plain": [
       "['MARLEY was dead to begin with',\n",
       " 'There is no doubt whatever about that',\n",
       " 'The register of his burial was signed by the clergyman the clerk the undertaker and the chief mourner',\n",
       " 'Scrooge signed it and Scrooge s name was good upon Change for anything he chose to put his hand to',\n",
       " 'Old Marley was as dead as a door nail',\n",
       " 'Mind',\n",
       " 'I don t mean to say that I know of my own knowledge what there is particularly dead about a door nail',\n",
       " 'I might have been inclined myself to regard a coffin nail as the deadest piece of ironmongery in the trade',\n",
       " 'But the wisdom of our ancestors is in the simile and my unhallowed hands shall not disturb it or the Country s done for',\n",
       " 'You will therefore permit me to repeat emphatically that Marley was as dead as a door nail',\n",
       " 'This is a new sentence']"
      ]
     },
     "execution_count": null,
     "metadata": {},
     "output_type": "execute_result"
    }
   ],
   "source": [
    "no_punctuations"
   ]
  },
  {
   "cell_type": "markdown",
   "metadata": {},
   "source": [
    "## Help"
   ]
  },
  {
   "cell_type": "markdown",
   "metadata": {},
   "source": [
    "To see the various CLI available in the library, use the function `cp_help`"
   ]
  },
  {
   "cell_type": "code",
   "execution_count": null,
   "metadata": {},
   "outputs": [
    {
     "name": "stdout",
     "output_type": "stream",
     "text": [
      "\u001b[1m\u001b[94mcheck_len\u001b[0m                       Takes name of a txt file and writes the tokenized sentences into a new txt file\n",
      "\u001b[1m\u001b[94mcorr_hm\u001b[0m                         Generates correlation plots from normalized SSMs\n",
      "\u001b[1m\u001b[94mcp_help\u001b[0m                         Show help for all console scripts\n",
      "\u001b[1m\u001b[94mheatmaps\u001b[0m                        Generates plots for embeddings in the folder\n",
      "\u001b[1m\u001b[94mheatmaps_pkl\u001b[0m                    Generates SSMs from pkl files\n",
      "\u001b[1m\u001b[94mhistograms\u001b[0m                      Generates histograms for embeddings in the folder\n",
      "\u001b[1m\u001b[94mlex_ts\u001b[0m                          Generate lexical TS from Lexical SSM\n",
      "\u001b[1m\u001b[94mmake_pkl\u001b[0m                        Create pkl for time series from embeddings\n",
      "\u001b[1m\u001b[94mts_pkl\u001b[0m                          Plot timeseries from the pkl file\n"
     ]
    }
   ],
   "source": [
    "!cp_help"
   ]
  },
  {
   "cell_type": "markdown",
   "metadata": {},
   "source": [
    "## Contributing"
   ]
  },
  {
   "cell_type": "markdown",
   "metadata": {},
   "source": [
    "This library has come into existence because of [nbdev](https://nbdev.fast.ai/) (one of many amazing tools made by [fast.ai](https://www.fast.ai/)). PRs and Issues are encouraged. \n",
    "\n",
    "After you clone this repository, please run `nbdev_install_hooks` in your terminal. This sets up git hooks, which clean up the notebooks to remove the extraneous stuff stored in the notebooks (e.g. which cells you ran) which causes unnecessary merge conflicts.\n",
    "\n",
    "Before submitting a PR, check that the local library and notebooks match. The script `nbdev_fix` can let you know if there is a difference between the local library and the notebooks.\n",
    "\n",
    "If you made a change to the notebooks in one of the exported cells, you can export it to the library with `nbdev_export`.\n",
    "\n",
    "If you made a change to the library, you can export it back to the notebooks with `nbdev_update`."
   ]
  }
 ],
 "metadata": {
  "kernelspec": {
   "display_name": "Python 3 (ipykernel)",
   "language": "python",
   "name": "python3"
  }
 },
 "nbformat": 4,
 "nbformat_minor": 1
}
