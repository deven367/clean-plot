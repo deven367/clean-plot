{
 "cells": [
  {
   "cell_type": "code",
   "execution_count": null,
   "metadata": {},
   "outputs": [
    {
     "name": "stderr",
     "output_type": "stream",
     "text": [
      "[nltk_data] Downloading package punkt to /home/deven/nltk_data...\n",
      "[nltk_data]   Package punkt is already up-to-date!\n",
      "[nltk_data] Downloading package stopwords to /home/deven/nltk_data...\n",
      "[nltk_data]   Package stopwords is already up-to-date!\n",
      "[nltk_data] Downloading package averaged_perceptron_tagger to\n",
      "[nltk_data]     /home/deven/nltk_data...\n",
      "[nltk_data]   Package averaged_perceptron_tagger is already up-to-\n",
      "[nltk_data]       date!\n",
      "[nltk_data] Downloading package wordnet to /home/deven/nltk_data...\n",
      "[nltk_data]   Package wordnet is already up-to-date!\n"
     ]
    }
   ],
   "source": [
    "#hide\n",
    "from clean_plot import *\n",
    "from nbdev import *"
   ]
  },
  {
   "cell_type": "code",
   "execution_count": null,
   "metadata": {},
   "outputs": [],
   "source": [
    "# hide\n",
    "%load_ext autoreload\n",
    "%autoreload 2"
   ]
  },
  {
   "cell_type": "markdown",
   "metadata": {},
   "source": [
    "# Welcome to clean_plot\n",
    "\n",
    "> The library simplifies cleaning text files for creation of embeddings and making plots from it\n",
    "\n",
    "- hide_colab_badge:true"
   ]
  },
  {
   "cell_type": "markdown",
   "metadata": {},
   "source": [
    "## Install"
   ]
  },
  {
   "cell_type": "markdown",
   "metadata": {},
   "source": [
    "`pip install clean-plot`"
   ]
  },
  {
   "cell_type": "markdown",
   "metadata": {},
   "source": [
    "## How to use"
   ]
  },
  {
   "cell_type": "markdown",
   "metadata": {},
   "source": [
    "The library contains easy to use methods for cleaning text, tokenizing and lemmatizing sentences. These sentences can then be easily fed to a sentence encoder to create sentence embeddings."
   ]
  },
  {
   "cell_type": "code",
   "execution_count": null,
   "metadata": {},
   "outputs": [
    {
     "name": "stdout",
     "output_type": "stream",
     "text": [
      "MARLEY was dead: to begin with. There is no doubt\n",
      "whatever about that. The register of his burial was\n",
      "signed by the clergyman, the clerk, the undertaker,\n",
      "and the chief mourner. Scrooge signed it: and\n",
      "Scrooge's name was good upon 'Change, for anything he\n",
      "chose to put his hand to. Old Marley was as dead as a\n",
      "door-nail.\n",
      "\n",
      "Mind! I don't mean to say that I know, of my\n",
      "own knowledge, what there is particularly dead about\n",
      "a door-nail. I might have been inclined, myself, to\n",
      "regard a coffin-nail as the deadest piece of ironmongery\n",
      "in the trade. But the wisdom of our ancestors\n",
      "is in the simile; and my unhallowed hands\n",
      "shall not disturb it, or the Country's done for. You\n",
      "will therefore permit me to repeat, emphatically, that\n",
      "Marley was as dead as a door-nail.\n"
     ]
    }
   ],
   "source": [
    "fname = '../files/dummy.txt'\n",
    "text = get_data(fname)\n",
    "print(text)"
   ]
  },
  {
   "cell_type": "code",
   "execution_count": null,
   "metadata": {},
   "outputs": [],
   "source": [
    "sentences = make_sentences(text)"
   ]
  },
  {
   "cell_type": "code",
   "execution_count": null,
   "metadata": {},
   "outputs": [
    {
     "data": {
      "text/plain": [
       "['MARLEY was dead: to begin with.',\n",
       " 'There is no doubt whatever about that.',\n",
       " 'The register of his burial was signed by the clergyman, the clerk, the undertaker, and the chief mourner.',\n",
       " \"Scrooge signed it: and Scrooge's name was good upon 'Change, for anything he chose to put his hand to.\",\n",
       " 'Old Marley was as dead as a door-nail.',\n",
       " 'Mind!',\n",
       " \"I don't mean to say that I know, of my own knowledge, what there is particularly dead about a door-nail.\",\n",
       " 'I might have been inclined, myself, to regard a coffin-nail as the deadest piece of ironmongery in the trade.',\n",
       " \"But the wisdom of our ancestors is in the simile; and my unhallowed hands shall not disturb it, or the Country's done for.\",\n",
       " 'You will therefore permit me to repeat, emphatically, that Marley was as dead as a door-nail.']"
      ]
     },
     "execution_count": null,
     "metadata": {},
     "output_type": "execute_result"
    }
   ],
   "source": [
    "sentences"
   ]
  },
  {
   "cell_type": "code",
   "execution_count": null,
   "metadata": {},
   "outputs": [],
   "source": [
    "no_punctuations = []\n",
    "for sentence in sentences:\n",
    "    new_sentence = remove_punctuations(sentence)\n",
    "    no_punctuations.append(new_sentence)"
   ]
  },
  {
   "cell_type": "code",
   "execution_count": null,
   "metadata": {},
   "outputs": [
    {
     "data": {
      "text/plain": [
       "['MARLEY was dead to begin with',\n",
       " 'There is no doubt whatever about that',\n",
       " 'The register of his burial was signed by the clergyman the clerk the undertaker and the chief mourner',\n",
       " 'Scrooge signed it and Scrooge s name was good upon Change for anything he chose to put his hand to',\n",
       " 'Old Marley was as dead as a door nail',\n",
       " 'Mind',\n",
       " 'I don t mean to say that I know of my own knowledge what there is particularly dead about a door nail',\n",
       " 'I might have been inclined myself to regard a coffin nail as the deadest piece of ironmongery in the trade',\n",
       " 'But the wisdom of our ancestors is in the simile and my unhallowed hands shall not disturb it or the Country s done for',\n",
       " 'You will therefore permit me to repeat emphatically that Marley was as dead as a door nail']"
      ]
     },
     "execution_count": null,
     "metadata": {},
     "output_type": "execute_result"
    }
   ],
   "source": [
    "no_punctuations"
   ]
  },
  {
   "cell_type": "code",
   "execution_count": null,
   "metadata": {},
   "outputs": [],
   "source": []
  }
 ],
 "metadata": {
  "kernelspec": {
   "display_name": "Python 3 (ipykernel)",
   "language": "python",
   "name": "python3"
  }
 },
 "nbformat": 4,
 "nbformat_minor": 1
}
