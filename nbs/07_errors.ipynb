{
 "cells": [
  {
   "cell_type": "code",
   "execution_count": null,
   "id": "cd60b60f",
   "metadata": {},
   "outputs": [],
   "source": [
    "#| default_exp errors"
   ]
  },
  {
   "cell_type": "markdown",
   "id": "ecc713e4",
   "metadata": {},
   "source": [
    "# Errors\n",
    "> Implementations of custom errors"
   ]
  },
  {
   "cell_type": "code",
   "execution_count": null,
   "id": "8711a458",
   "metadata": {},
   "outputs": [],
   "source": [
    "#| hide\n",
    "%load_ext autoreload\n",
    "%autoreload 2"
   ]
  },
  {
   "cell_type": "code",
   "execution_count": null,
   "id": "e47f666a",
   "metadata": {},
   "outputs": [],
   "source": [
    "#| export \n",
    "class MyException(Exception):\n",
    "    def __init__(self, message):\n",
    "        super().__init__(message)\n",
    "\n",
    "        self.message = message\n",
    "\n",
    "    def __str__(self):\n",
    "        return self.message\n"
   ]
  },
  {
   "cell_type": "code",
   "execution_count": null,
   "id": "bd0b5135",
   "metadata": {},
   "outputs": [],
   "source": [
    "#| export\n",
    "import inspect"
   ]
  },
  {
   "cell_type": "code",
   "execution_count": null,
   "id": "290a2a21",
   "metadata": {},
   "outputs": [
    {
     "ename": "TypeError",
     "evalue": "catching classes that do not inherit from BaseException is not allowed",
     "output_type": "error",
     "traceback": [
      "\u001b[0;31m---------------------------------------------------------------------------\u001b[0m",
      "\u001b[0;31mValueError\u001b[0m                                Traceback (most recent call last)",
      "Input \u001b[0;32mIn [21]\u001b[0m, in \u001b[0;36m<cell line: 1>\u001b[0;34m()\u001b[0m\n\u001b[1;32m      1\u001b[0m \u001b[38;5;28;01mtry\u001b[39;00m:\n\u001b[0;32m----> 2\u001b[0m     x \u001b[38;5;241m=\u001b[39m \u001b[38;5;28;43mfloat\u001b[39;49m\u001b[43m(\u001b[49m\u001b[38;5;124;43m'\u001b[39;49m\u001b[38;5;124;43mkjsd\u001b[39;49m\u001b[38;5;124;43m'\u001b[39;49m\u001b[43m)\u001b[49m\n\u001b[1;32m      3\u001b[0m \u001b[38;5;28;01mexcept\u001b[39;00m MyException(\u001b[38;5;124m'\u001b[39m\u001b[38;5;124mcustom error\u001b[39m\u001b[38;5;124m'\u001b[39m) \u001b[38;5;28;01mas\u001b[39;00m e:\n",
      "\u001b[0;31mValueError\u001b[0m: could not convert string to float: 'kjsd'",
      "\nDuring handling of the above exception, another exception occurred:\n",
      "\u001b[0;31mTypeError\u001b[0m                                 Traceback (most recent call last)",
      "Input \u001b[0;32mIn [21]\u001b[0m, in \u001b[0;36m<cell line: 1>\u001b[0;34m()\u001b[0m\n\u001b[1;32m      1\u001b[0m \u001b[38;5;28;01mtry\u001b[39;00m:\n\u001b[1;32m      2\u001b[0m     x \u001b[38;5;241m=\u001b[39m \u001b[38;5;28mfloat\u001b[39m(\u001b[38;5;124m'\u001b[39m\u001b[38;5;124mkjsd\u001b[39m\u001b[38;5;124m'\u001b[39m)\n\u001b[0;32m----> 3\u001b[0m \u001b[38;5;28;01mexcept\u001b[39;00m MyException(\u001b[38;5;124m'\u001b[39m\u001b[38;5;124mcustom error\u001b[39m\u001b[38;5;124m'\u001b[39m) \u001b[38;5;28;01mas\u001b[39;00m e:\n\u001b[1;32m      4\u001b[0m     \u001b[38;5;28mprint\u001b[39m(e)\n",
      "\u001b[0;31mTypeError\u001b[0m: catching classes that do not inherit from BaseException is not allowed"
     ]
    }
   ],
   "source": [
    "#| local\n",
    "try:\n",
    "    x = float('kjsd')\n",
    "except MyException('custom error') as e:\n",
    "    print(e)\n",
    "#     raise MyException(\"cannot divide by zero\")"
   ]
  },
  {
   "cell_type": "code",
   "execution_count": null,
   "id": "f2a7fd61",
   "metadata": {},
   "outputs": [],
   "source": []
  }
 ],
 "metadata": {
  "kernelspec": {
   "display_name": "python3",
   "language": "python",
   "name": "python3"
  }
 },
 "nbformat": 4,
 "nbformat_minor": 5
}
