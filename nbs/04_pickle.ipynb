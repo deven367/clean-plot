{
 "cells": [
  {
   "cell_type": "code",
   "execution_count": null,
   "metadata": {},
   "outputs": [],
   "source": [
    "# default_exp pickle"
   ]
  },
  {
   "cell_type": "markdown",
   "metadata": {},
   "source": [
    "# Exporting to pickle\n",
    "\n",
    "> This module contains the functions to export all the embeddings to a time series format, group them together and export it as a pickle file"
   ]
  },
  {
   "cell_type": "code",
   "execution_count": null,
   "metadata": {},
   "outputs": [],
   "source": [
    "#export\n",
    "import os\n",
    "import numpy as np\n",
    "import pickle\n",
    "import string\n",
    "from numpy import dot\n",
    "from numpy.linalg import norm"
   ]
  },
  {
   "cell_type": "markdown",
   "metadata": {},
   "source": [
    "**NOTE** The module has 2 main functions:\n",
    "* `create_dic` which creates individual `.pkl` files (for each chapter of the book) based on breakpoints of chapters given by the use. (use when the dataset is very huge. Visualizing the entire heatmap does not give a lot of information. \n",
    "* `create_dic_whole_book` creates a single `.pkl` file for the entire book. To be used when the dataset is relatively small in size i.e. 2000 - 2500 sentences.\n",
    "\n"
   ]
  },
  {
   "cell_type": "code",
   "execution_count": null,
   "metadata": {},
   "outputs": [],
   "source": [
    "#export\n",
    "def label(arg):\n",
    "    \"\"\"\n",
    "    Returns the full name of the model based on the abbreviation\n",
    "    \"\"\"\n",
    "    switcher = {\n",
    "        'dcltr_base': \"DeCLUTR Base\",\n",
    "        'dcltr_sm': \"DeCLUTR Small\",\n",
    "        'distil': \"DistilBERT\",\n",
    "        'if_FT': \"InferSent FastText\",\n",
    "        'if_glove': \"InferSent GloVe\",\n",
    "        'roberta': \"RoBERTa\",\n",
    "        'use': \"USE\",\n",
    "        'new_lex': 'Lexical Vectors',\n",
    "        'old_lex': 'Lexical Weights',\n",
    "        'lexical_wt': 'Lexical Weights',\n",
    "        'lex_vect': 'Lexical Vectors',\n",
    "        'lex_vect_corr_ts': 'Lexical Vectors (Corr)'\n",
    "    }\n",
    "    return switcher.get(arg)"
   ]
  },
  {
   "cell_type": "code",
   "execution_count": null,
   "metadata": {},
   "outputs": [],
   "source": [
    "#export\n",
    "def cos_sim(a, b):\n",
    "    \"\"\"\n",
    "    Returns the cosine similarity between 2 vectors. \n",
    "    \"\"\"\n",
    "    return dot(a, b)/(norm(a)*norm(b))"
   ]
  },
  {
   "cell_type": "code",
   "execution_count": null,
   "metadata": {},
   "outputs": [],
   "source": []
  },
  {
   "cell_type": "code",
   "execution_count": null,
   "metadata": {},
   "outputs": [],
   "source": []
  },
  {
   "cell_type": "code",
   "execution_count": null,
   "metadata": {},
   "outputs": [],
   "source": []
  }
 ],
 "metadata": {
  "kernelspec": {
   "display_name": "Python 3",
   "language": "python",
   "name": "python3"
  }
 },
 "nbformat": 4,
 "nbformat_minor": 4
}
