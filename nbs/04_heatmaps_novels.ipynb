{
 "cells": [
  {
   "cell_type": "code",
   "execution_count": null,
   "id": "74e3ff17",
   "metadata": {},
   "outputs": [],
   "source": [
    "# default_exp heatmaps_novels"
   ]
  },
  {
   "cell_type": "markdown",
   "id": "6bac9241",
   "metadata": {},
   "source": [
    "# Heatmaps for novels\n",
    "> This model is to create heatmaps for novels. It even includes some functions to generate smaller heatmaps"
   ]
  },
  {
   "cell_type": "code",
   "execution_count": null,
   "id": "496cc07d",
   "metadata": {},
   "outputs": [],
   "source": [
    "#export\n",
    "from clean_plot.core import loader\n",
    "from clean_plot.pickle import label\n",
    "from clean_plot.functions import normalize\n",
    "import numpy as np\n",
    "import matplotlib.pyplot as plt\n",
    "import seaborn as sns\n",
    "from sklearn.metrics.pairwise import cosine_similarity\n",
    "from fastcore.all import *\n",
    "from pathlib import Path"
   ]
  },
  {
   "cell_type": "code",
   "execution_count": null,
   "id": "ea177d41",
   "metadata": {},
   "outputs": [],
   "source": [
    "#export\n",
    "@call_parse\n",
    "def plot_novels(path: Param(\"path for embeddings\"),\n",
    "                start: Param(\"start for section\", default=0, type=int),\n",
    "                end: Param(\"end for section\", default=-1, type=int)):\n",
    "    \"Generates plots for embeddings in the folder\"\n",
    "    \n",
    "    files = loader(path, '.npy')\n",
    "    curr = Path.cwd()\n",
    "    if start > 0:\n",
    "        new_path = curr/f'sections_{start} {end}'\n",
    "        new_path.mkdir(exist_ok=True)\n",
    "    else:\n",
    "        new_path = curr/'full_plots'\n",
    "        new_path.mkdir(exist_ok=True)\n",
    "        \n",
    "    for f in files:\n",
    "        fname = f.stem.split('_cleaned_')\n",
    "        book, method = fname[0], label(fname[1])\n",
    "        title = f'{book.title()} {method}'\n",
    "\n",
    "        em = np.load(f)\n",
    "        \n",
    "        if end == -1:\n",
    "            end = len(em)\n",
    "            \n",
    "            \n",
    "        ticks = np.linspace(1, end - start, 5, dtype=int)\n",
    "        \n",
    "        if start == 0:\n",
    "            labels = np.linspace(start + 1, end, 5, dtype=int)\n",
    "        else:\n",
    "            labels = np.linspace(start, end, 5, dtype=int)\n",
    "\n",
    "        if fname[1] == 'lexical_wt_ssm':\n",
    "            sim = em\n",
    "            print(em.shape)\n",
    "            n = normalize(sim)\n",
    "            np.fill_diagonal(sim, 1)\n",
    "        else:\n",
    "            sim = cosine_similarity(em, em)\n",
    "            n = normalize(sim)\n",
    "        \n",
    "        \n",
    "        \n",
    "        sns.heatmap(n[start:end, start:end], cmap='hot', \n",
    "                    vmin=0, vmax=1, square=True, \n",
    "                    xticklabels=20, yticklabels=20)\n",
    "        \n",
    "        plt.yticks(rotation = 0)\n",
    "        plt.title(title)\n",
    "        \n",
    "        plt.savefig(new_path/f'{title}.png', dpi = 300, bbox_inches='tight')\n",
    "        plt.clf()\n",
    "        del em, sim, n"
   ]
  },
  {
   "cell_type": "code",
   "execution_count": null,
   "id": "1d8809d3",
   "metadata": {},
   "outputs": [],
   "source": []
  }
 ],
 "metadata": {
  "kernelspec": {
   "display_name": "Python 3 (ipykernel)",
   "language": "python",
   "name": "python3"
  }
 },
 "nbformat": 4,
 "nbformat_minor": 5
}
