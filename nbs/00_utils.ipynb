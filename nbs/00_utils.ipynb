{
 "cells": [
  {
   "cell_type": "code",
   "execution_count": null,
   "id": "eb1ba028",
   "metadata": {},
   "outputs": [],
   "source": [
    "#|default_exp utils"
   ]
  },
  {
   "cell_type": "markdown",
   "id": "99c03cfe",
   "metadata": {},
   "source": [
    "# Utils\n",
    "> Various utils for cleaning, organining and capturing other information."
   ]
  },
  {
   "cell_type": "code",
   "execution_count": null,
   "id": "dcda87a7",
   "metadata": {},
   "outputs": [],
   "source": [
    "#|export\n",
    "import pickle\n",
    "import numpy as np\n",
    "from pathlib import Path\n",
    "from fastcore.foundation import L\n",
    "from fastcore.xtras import globtastic\n",
    "import pathlib\n",
    "import glob\n",
    "from glob import glob"
   ]
  },
  {
   "cell_type": "code",
   "execution_count": null,
   "id": "bbd7b4c2",
   "metadata": {},
   "outputs": [],
   "source": [
    "#|export\n",
    "def get_data(\n",
    "    fname: (str, pathlib.Path) # path to the file\n",
    "    )->str: # returns content of the file\n",
    "    \"Reads from a txt file\"\n",
    "    with open(fname, 'r') as f:\n",
    "        all_text = f.read()\n",
    "    return all_text"
   ]
  },
  {
   "cell_type": "code",
   "execution_count": null,
   "id": "73089b39",
   "metadata": {},
   "outputs": [],
   "source": [
    "#|export\n",
    "def load_pmi(\n",
    "    fname: (str, Path)  # name of pmi file\n",
    ") -> np.ndarray:  # pmi matrix\n",
    "    \"\"\"\n",
    "    Loads the PMI matrix\n",
    "    \"\"\"\n",
    "    file_ = loader(fname, '.npy')\n",
    "    pmi = np.load(file_)\n",
    "    print(f'Loaded {name}')\n",
    "    return pmi"
   ]
  },
  {
   "cell_type": "code",
   "execution_count": null,
   "id": "48fba8b9",
   "metadata": {},
   "outputs": [],
   "source": [
    "#|export\n",
    "def loader(\n",
    "    path: [str, pathlib.Path],  # path to a given folder,\n",
    "    extension: str,  # extension of the file you want\n",
    ") -> L:  # returns `L`\n",
    "    \"Given a Path and an extension, returns all files with the extension in the path\"\n",
    "    files = L([Path(f) for f in globtastic(path, file_glob=f'*{extension}')])\n",
    "\n",
    "    return files"
   ]
  },
  {
   "cell_type": "code",
   "execution_count": null,
   "id": "16658b0c",
   "metadata": {},
   "outputs": [],
   "source": [
    "#|export\n",
    "def foo(\n",
    "    x: int,  # num\n",
    ") -> int:  # returns num\n",
    "    \"returns num itself\"\n",
    "    return x"
   ]
  },
  {
   "cell_type": "code",
   "execution_count": null,
   "id": "79b028e3",
   "metadata": {},
   "outputs": [],
   "source": [
    "#|export\n",
    "def normalize(\n",
    "    data: np.ndarray,  # input array\n",
    ") -> np.ndarray:  # normalized array\n",
    "    \"\"\"\n",
    "    Given an input array, return normalized array\n",
    "    \"\"\"\n",
    "    return (data - np.min(data)) / (np.max(data) - np.min(data))"
   ]
  },
  {
   "cell_type": "code",
   "execution_count": null,
   "id": "dbd14c71",
   "metadata": {},
   "outputs": [],
   "source": []
  }
 ],
 "metadata": {
  "kernelspec": {
   "display_name": "Python 3 (ipykernel)",
   "language": "python",
   "name": "python3"
  }
 },
 "nbformat": 4,
 "nbformat_minor": 5
}
