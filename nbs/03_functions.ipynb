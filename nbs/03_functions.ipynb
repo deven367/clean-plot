{
 "cells": [
  {
   "cell_type": "code",
   "execution_count": null,
   "metadata": {},
   "outputs": [],
   "source": [
    "# default_exp functions"
   ]
  },
  {
   "cell_type": "code",
   "execution_count": null,
   "metadata": {},
   "outputs": [
    {
     "name": "stdout",
     "output_type": "stream",
     "text": [
      "Mounted at /content/drive\n"
     ]
    }
   ],
   "source": [
    "#hide\n",
    "from google.colab import drive\n",
    "drive.mount('/content/drive')"
   ]
  },
  {
   "cell_type": "code",
   "execution_count": null,
   "metadata": {},
   "outputs": [],
   "source": [
    "#hide\n",
    "%load_ext autoreload\n",
    "%autoreload 2"
   ]
  },
  {
   "cell_type": "code",
   "execution_count": null,
   "metadata": {},
   "outputs": [],
   "source": [
    "#hide\n",
    "!pip install nbdev\n",
    "!pip install fastcore"
   ]
  },
  {
   "cell_type": "code",
   "execution_count": null,
   "metadata": {},
   "outputs": [
    {
     "name": "stdout",
     "output_type": "stream",
     "text": [
      "/content/drive/MyDrive/nbdev/hello_nbdev\n"
     ]
    }
   ],
   "source": [
    "#hide\n",
    "%cd /content/drive/MyDrive/nbdev/hello_nbdev"
   ]
  },
  {
   "cell_type": "code",
   "execution_count": null,
   "metadata": {},
   "outputs": [],
   "source": [
    "#hide\n",
    "#not deps but we need them to use nbdev and run tests\n",
    "from nbdev import * \n",
    "from nbdev.showdoc import *\n",
    "from fastcore.test import *"
   ]
  },
  {
   "cell_type": "markdown",
   "metadata": {},
   "source": [
    "# This module includes most of the functions\n",
    "> Please work!"
   ]
  },
  {
   "cell_type": "code",
   "execution_count": null,
   "metadata": {},
   "outputs": [],
   "source": [
    "#hide\n",
    "import os\n",
    "import pandas as pd\n",
    "import pickle\n",
    "import numpy as np\n",
    "import seaborn as sns\n",
    "import matplotlib.pyplot as plt\n",
    "from sklearn.metrics.pairwise import cosine_similarity"
   ]
  },
  {
   "cell_type": "code",
   "execution_count": null,
   "metadata": {},
   "outputs": [],
   "source": [
    "%config IPCompleter.greedy=True"
   ]
  },
  {
   "cell_type": "code",
   "execution_count": null,
   "metadata": {},
   "outputs": [],
   "source": [
    "#exports\n",
    "\n",
    "def normalize(data):\n",
    "    \"\"\"\n",
    "    The function takes an array, matrix as input and normalizes\n",
    "    it between 0 and 1\n",
    "\n",
    "    Args:\n",
    "        data (ndarray): any 1-D, or 2-D numpy array\n",
    "\n",
    "    Returns:\n",
    "        (ndarray): normalized ndarray\n",
    "\n",
    "    Example:\n",
    "    >>> x = [1,2,3,4,5]\n",
    "    >>> normalize(x)\n",
    "    array([0.  , 0.25, 0.5 , 0.75, 1.  ])\n",
    "    \"\"\"\n",
    "    return (data - np.min(data)) / (np.max(data) - np.min(data))"
   ]
  },
  {
   "cell_type": "code",
   "execution_count": null,
   "metadata": {},
   "outputs": [
    {
     "name": "stdout",
     "output_type": "stream",
     "text": [
      "Converted 00_core.ipynb.\n",
      "Converted 01_trial.ipynb.\n",
      "Converted 02_featue_extractor.ipynb.\n",
      "Converted 03_functions.ipynb.\n",
      "Converted index.ipynb.\n"
     ]
    }
   ],
   "source": [
    "!nbdev_build_lib"
   ]
  },
  {
   "cell_type": "code",
   "execution_count": null,
   "metadata": {},
   "outputs": [
    {
     "name": "stdout",
     "output_type": "stream",
     "text": [
      "converting: /content/drive/My Drive/nbdev/hello_nbdev/nbs/00_core.ipynb\n",
      "converting: /content/drive/My Drive/nbdev/hello_nbdev/nbs/03_functions.ipynb\n",
      "converting: /content/drive/My Drive/nbdev/hello_nbdev/nbs/01_trial.ipynb\n",
      "converting: /content/drive/My Drive/nbdev/hello_nbdev/nbs/02_featue_extractor.ipynb\n",
      "converting: /content/drive/My Drive/nbdev/hello_nbdev/nbs/index.ipynb\n",
      "converting /content/drive/My Drive/nbdev/hello_nbdev/nbs/index.ipynb to README.md\n"
     ]
    }
   ],
   "source": [
    "!nbdev_build_docs"
   ]
  },
  {
   "cell_type": "code",
   "execution_count": null,
   "metadata": {},
   "outputs": [
    {
     "name": "stdout",
     "output_type": "stream",
     "text": [
      "On branch master\n",
      "Your branch is up to date with 'origin/master'.\n",
      "\n",
      "Changes not staged for commit:\n",
      "  (use \"git add/rm <file>...\" to update what will be committed)\n",
      "  (use \"git checkout -- <file>...\" to discard changes in working directory)\n",
      "\n",
      "\t\u001b[31mmodified:   README.md\u001b[m\n",
      "\t\u001b[31mdeleted:    _not_finished.ipynb\u001b[m\n",
      "\t\u001b[31mmodified:   docs/_data/sidebars/home_sidebar.yml\u001b[m\n",
      "\t\u001b[31mmodified:   docs/core.html\u001b[m\n",
      "\t\u001b[31mmodified:   docs/featue_extractor.html\u001b[m\n",
      "\t\u001b[31mmodified:   docs/index.html\u001b[m\n",
      "\t\u001b[31mmodified:   docs/sidebar.json\u001b[m\n",
      "\t\u001b[31mmodified:   docs/trial.html\u001b[m\n",
      "\t\u001b[31mmodified:   hello_nbdev/_nbdev.py\u001b[m\n",
      "\n",
      "Untracked files:\n",
      "  (use \"git add <file>...\" to include in what will be committed)\n",
      "\n",
      "\t\u001b[31mdocs/functions.html\u001b[m\n",
      "\t\u001b[31mhello_nbdev/functions.py\u001b[m\n",
      "\t\u001b[31mnbs/03_functions.ipynb\u001b[m\n",
      "\t\u001b[31mnbs/_not_finished.ipynb\u001b[m\n",
      "\n",
      "no changes added to commit (use \"git add\" and/or \"git commit -a\")\n"
     ]
    }
   ],
   "source": [
    "!git status"
   ]
  },
  {
   "cell_type": "code",
   "execution_count": null,
   "metadata": {},
   "outputs": [],
   "source": [
    "!git add -A"
   ]
  },
  {
   "cell_type": "code",
   "execution_count": null,
   "metadata": {},
   "outputs": [
    {
     "name": "stdout",
     "output_type": "stream",
     "text": [
      "[master 1a1e38d] add new notebook for functions\n",
      " 12 files changed, 449 insertions(+), 14 deletions(-)\n",
      " create mode 100644 docs/functions.html\n",
      " create mode 100644 hello_nbdev/functions.py\n",
      " create mode 100644 nbs/03_functions.ipynb\n",
      " rename _not_finished.ipynb => nbs/_not_finished.ipynb (100%)\n"
     ]
    }
   ],
   "source": [
    "!git commit -am \"add new notebook for functions\""
   ]
  },
  {
   "cell_type": "code",
   "execution_count": null,
   "metadata": {},
   "outputs": [],
   "source": [
    "from hello_nbdev.core import *"
   ]
  },
  {
   "cell_type": "code",
   "execution_count": null,
   "metadata": {},
   "outputs": [
    {
     "name": "stdout",
     "output_type": "stream",
     "text": [
      "testing /content/drive/My Drive/nbdev/hello_nbdev/nbs/00_core.ipynb\n",
      "testing /content/drive/My Drive/nbdev/hello_nbdev/nbs/01_trial.ipynb\n",
      "testing /content/drive/My Drive/nbdev/hello_nbdev/nbs/02_featue_extractor.ipynb\n",
      "testing /content/drive/My Drive/nbdev/hello_nbdev/nbs/03_functions.ipynb\n",
      "testing /content/drive/My Drive/nbdev/hello_nbdev/nbs/index.ipynb\n",
      "Error in /content/drive/My Drive/nbdev/hello_nbdev/nbs/index.ipynb:\n",
      "An error occurred while executing the following cell:\n",
      "------------------\n",
      "#hide\n",
      "from hello_nbdev.core import *\n",
      "from hello_nbdev.trial import *\n",
      "------------------\n",
      "\n",
      "\u001b[0;31m\u001b[0m\n",
      "\u001b[0;31mModuleNotFoundError\u001b[0mTraceback (most recent call last)\n",
      "\u001b[0;32m<ipython-input-2-0e57a80c8b7e>\u001b[0m in \u001b[0;36m<module>\u001b[0;34m()\u001b[0m\n",
      "\u001b[1;32m      1\u001b[0m \u001b[0;31m#hide\u001b[0m\u001b[0;34m\u001b[0m\u001b[0;34m\u001b[0m\u001b[0;34m\u001b[0m\u001b[0m\n",
      "\u001b[0;32m----> 2\u001b[0;31m \u001b[0;32mfrom\u001b[0m \u001b[0mhello_nbdev\u001b[0m\u001b[0;34m.\u001b[0m\u001b[0mcore\u001b[0m \u001b[0;32mimport\u001b[0m \u001b[0;34m*\u001b[0m\u001b[0;34m\u001b[0m\u001b[0;34m\u001b[0m\u001b[0m\n",
      "\u001b[0m\u001b[1;32m      3\u001b[0m \u001b[0;32mfrom\u001b[0m \u001b[0mhello_nbdev\u001b[0m\u001b[0;34m.\u001b[0m\u001b[0mtrial\u001b[0m \u001b[0;32mimport\u001b[0m \u001b[0;34m*\u001b[0m\u001b[0;34m\u001b[0m\u001b[0;34m\u001b[0m\u001b[0m\n",
      "\n",
      "\u001b[0;31mModuleNotFoundError\u001b[0m: No module named 'hello_nbdev'\n",
      "\n",
      "\u001b[0;31m---------------------------------------------------------------------------\u001b[0;32m\n",
      "NOTE: If your import is failing due to a missing package, you can\n",
      "manually install dependencies using either !pip or !apt.\n",
      "\n",
      "To view examples of installing some common dependencies, click the\n",
      "\"Open Examples\" button below.\n",
      "\u001b[0;31m---------------------------------------------------------------------------\u001b[0m\n",
      "\n",
      "ModuleNotFoundError: No module named 'hello_nbdev'\n",
      "\n"
     ]
    }
   ],
   "source": [
    "!nbdev_test_nbs"
   ]
  },
  {
   "cell_type": "code",
   "execution_count": null,
   "metadata": {},
   "outputs": [
    {
     "name": "stdout",
     "output_type": "stream",
     "text": [
      "Counting objects: 18, done.\n",
      "Delta compression using up to 2 threads.\n",
      "Compressing objects:   5% (1/17)   \rCompressing objects:  11% (2/17)   \rCompressing objects:  17% (3/17)   \rCompressing objects:  23% (4/17)   \rCompressing objects:  29% (5/17)   \rCompressing objects:  35% (6/17)   \rCompressing objects:  41% (7/17)   \rCompressing objects:  47% (8/17)   \rCompressing objects:  52% (9/17)   \rCompressing objects:  58% (10/17)   \rCompressing objects:  64% (11/17)   \rCompressing objects:  70% (12/17)   \rCompressing objects:  76% (13/17)   \rCompressing objects:  82% (14/17)   \rCompressing objects:  88% (15/17)   \rCompressing objects:  94% (16/17)   \rCompressing objects: 100% (17/17)   \rCompressing objects: 100% (17/17), done.\n",
      "Writing objects:   5% (1/18)   \rWriting objects:  11% (2/18)   \rWriting objects:  16% (3/18)   \rWriting objects:  22% (4/18)   \rWriting objects:  27% (5/18)   \rWriting objects:  33% (6/18)   \rWriting objects:  38% (7/18)   \rWriting objects:  44% (8/18)   \rWriting objects:  50% (9/18)   \rWriting objects:  55% (10/18)   \rWriting objects:  61% (11/18)   \rWriting objects:  66% (12/18)   \rWriting objects:  72% (13/18)   \rWriting objects:  77% (14/18)   \rWriting objects:  83% (15/18)   \rWriting objects:  88% (16/18)   \rWriting objects:  94% (17/18)   \rWriting objects: 100% (18/18)   \rWriting objects: 100% (18/18), 4.34 KiB | 555.00 KiB/s, done.\n",
      "Total 18 (delta 10), reused 0 (delta 0)\n",
      "remote: Resolving deltas: 100% (10/10), completed with 10 local objects.\u001b[K\n",
      "To https://github.com/deven367/hello_nbdev.git\n",
      "   3286541..1a1e38d  master -> master\n"
     ]
    }
   ],
   "source": [
    "!git push"
   ]
  },
  {
   "cell_type": "code",
   "execution_count": null,
   "metadata": {},
   "outputs": [],
   "source": []
  }
 ],
 "metadata": {
  "kernelspec": {
   "display_name": "Python 3",
   "name": "python3"
  }
 },
 "nbformat": 4,
 "nbformat_minor": 0
}
