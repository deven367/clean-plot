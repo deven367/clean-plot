{
 "cells": [
  {
   "cell_type": "code",
   "execution_count": null,
   "metadata": {},
   "outputs": [],
   "source": [
    "# default_exp functions"
   ]
  },
  {
   "cell_type": "code",
   "execution_count": null,
   "metadata": {},
   "outputs": [],
   "source": [
    "#hide\n",
    "%load_ext autoreload\n",
    "%autoreload 2"
   ]
  },
  {
   "cell_type": "code",
   "execution_count": null,
   "metadata": {},
   "outputs": [],
   "source": [
    "#hide\r\n",
    "from nbdev import * \r\n",
    "from nbdev.showdoc import *\r\n",
    "from fastcore.test import *"
   ]
  },
  {
   "cell_type": "markdown",
   "metadata": {},
   "source": [
    "# Functions\r\n",
    "> This includes majority of the functions"
   ]
  },
  {
   "cell_type": "code",
   "execution_count": null,
   "metadata": {},
   "outputs": [],
   "source": [
    "#hide\r\n",
    "import os\r\n",
    "import pandas as pd\r\n",
    "import pickle\r\n",
    "import numpy as np\r\n",
    "import seaborn as sns\r\n",
    "import matplotlib.pyplot as plt\r\n",
    "from sklearn.metrics.pairwise import cosine_similarity"
   ]
  },
  {
   "cell_type": "code",
   "execution_count": null,
   "metadata": {},
   "outputs": [],
   "source": [
    "#exports\r\n",
    "def normalize(data):\r\n",
    "    \"\"\"\r\n",
    "    The function takes an array, matrix as input and normalizes\r\n",
    "    it between 0 and 1\r\n",
    "\r\n",
    "    Args:\r\n",
    "        data (ndarray): any 1-D, or 2-D numpy array\r\n",
    "\r\n",
    "    Returns:\r\n",
    "        (ndarray): normalized ndarray\r\n",
    "    \"\"\"\r\n",
    "    return (data - np.min(data)) / (np.max(data) - np.min(data))"
   ]
  },
  {
   "cell_type": "code",
   "execution_count": null,
   "metadata": {},
   "outputs": [
    {
     "data": {
      "text/plain": [
       "array([0.  , 0.25, 0.5 , 0.75, 1.  ])"
      ]
     },
     "execution_count": null,
     "metadata": {},
     "output_type": "execute_result"
    }
   ],
   "source": [
    "normalize([1,2,3,4,5])"
   ]
  },
  {
   "cell_type": "code",
   "execution_count": null,
   "metadata": {},
   "outputs": [],
   "source": [
    "#export\r\n",
    "def split_by_newline(all):\r\n",
    "    \"\"\"\r\n",
    "    Only use when sentences are already tokenized\r\n",
    "    returns sentences split by '\\\\n' if len(line) > 0\r\n",
    "\r\n",
    "    Args:\r\n",
    "        all (str): tokenized string to be split by '\\\\n'\r\n",
    "\r\n",
    "    Returns:\r\n",
    "        list: list of sentences split by '\\\\n'\r\n",
    "    \"\"\"\r\n",
    "    '''\r\n",
    "    '''\r\n",
    "    return [line.lower() for line in all.split('\\n') if len(line) > 0]"
   ]
  },
  {
   "cell_type": "code",
   "execution_count": null,
   "metadata": {},
   "outputs": [
    {
     "data": {
      "text/plain": [
       "['hello there!', 'this is how this functions works!']"
      ]
     },
     "execution_count": null,
     "metadata": {},
     "output_type": "execute_result"
    }
   ],
   "source": [
    "all = \"Hello there!\\nThis is how this functions works!\"\r\n",
    "split_by_newline(all)"
   ]
  },
  {
   "cell_type": "code",
   "execution_count": null,
   "metadata": {},
   "outputs": [],
   "source": []
  }
 ],
 "metadata": {
  "kernelspec": {
   "display_name": "Python 3.8.6 32-bit",
   "name": "python3"
  }
 },
 "nbformat": 4,
 "nbformat_minor": 1
}
