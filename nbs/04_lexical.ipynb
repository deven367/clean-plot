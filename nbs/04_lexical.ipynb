{
 "cells": [
  {
   "cell_type": "code",
   "execution_count": null,
   "id": "1813e67f",
   "metadata": {},
   "outputs": [],
   "source": [
    "#default_exp lexical"
   ]
  },
  {
   "cell_type": "code",
   "execution_count": null,
   "id": "f1bb0802",
   "metadata": {},
   "outputs": [],
   "source": [
    "# hide\n",
    "%load_ext autoreload\n",
    "%autoreload 2"
   ]
  },
  {
   "cell_type": "code",
   "execution_count": null,
   "id": "a99648f1",
   "metadata": {},
   "outputs": [
    {
     "name": "stderr",
     "output_type": "stream",
     "text": [
      "[nltk_data] Downloading package punkt to /home/deven/nltk_data...\n",
      "[nltk_data]   Package punkt is already up-to-date!\n",
      "[nltk_data] Downloading package stopwords to /home/deven/nltk_data...\n",
      "[nltk_data]   Package stopwords is already up-to-date!\n",
      "[nltk_data] Downloading package averaged_perceptron_tagger to\n",
      "[nltk_data]     /home/deven/nltk_data...\n",
      "[nltk_data]   Package averaged_perceptron_tagger is already up-to-\n",
      "[nltk_data]       date!\n",
      "[nltk_data] Downloading package wordnet to /home/deven/nltk_data...\n",
      "[nltk_data]   Package wordnet is already up-to-date!\n"
     ]
    }
   ],
   "source": [
    "#export\n",
    "import re\n",
    "from clean_plot import *\n",
    "import os\n",
    "import unidecode\n",
    "from collections import OrderedDict"
   ]
  },
  {
   "cell_type": "markdown",
   "id": "7c6d45b0",
   "metadata": {},
   "source": [
    "# Lexical\n",
    "\n",
    "> This file goes over generating lexical embeddings"
   ]
  },
  {
   "cell_type": "code",
   "execution_count": null,
   "id": "92362780",
   "metadata": {},
   "outputs": [],
   "source": [
    "#export\n",
    "def interpolate(lex, removed_indices = []):\n",
    "    \"\"\"\n",
    "    Method does interpolation based on the removed indices.\n",
    "    Substitutes the missing values based on the previous value in the array\n",
    "    \"\"\"\n",
    "    for index in removed_indices:\n",
    "        if index < len(lex):\n",
    "            lex = np.insert(lex, index, lex[index - 1])\n",
    "    return lex"
   ]
  },
  {
   "cell_type": "code",
   "execution_count": null,
   "id": "7b6b4ad9",
   "metadata": {},
   "outputs": [],
   "source": [
    "#export\n",
    "def load_pmi(path):\n",
    "    pmi = np.load(path)\n",
    "    return pmi\n"
   ]
  },
  {
   "cell_type": "code",
   "execution_count": null,
   "id": "9ef07dfc",
   "metadata": {},
   "outputs": [],
   "source": [
    "#export\n",
    "def load_dictionary(path):\n",
    "    fname = open(path, 'rb')\n",
    "    data = pickle.load(fname)\n",
    "    return data"
   ]
  }
 ],
 "metadata": {
  "kernelspec": {
   "display_name": "Python 3 (ipykernel)",
   "language": "python",
   "name": "python3"
  }
 },
 "nbformat": 4,
 "nbformat_minor": 5
}
