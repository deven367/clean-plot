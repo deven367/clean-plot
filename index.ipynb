{
 "cells": [
  {
   "cell_type": "code",
   "execution_count": null,
   "metadata": {},
   "outputs": [],
   "source": [
    "#hide\n",
    "from clean_plot import *\n",
    "from nbdev import *"
   ]
  },
  {
   "cell_type": "code",
   "execution_count": null,
   "metadata": {},
   "outputs": [],
   "source": [
    "# hide\n",
    "%load_ext autoreload\n",
    "%autoreload 2"
   ]
  },
  {
   "cell_type": "markdown",
   "metadata": {},
   "source": [
    "# Welcome to clean_plot\n",
    "\n",
    "> The library simplifies cleaning text files for creation of embeddings and making plots from it"
   ]
  },
  {
   "cell_type": "markdown",
   "metadata": {},
   "source": [
    "## Install"
   ]
  },
  {
   "cell_type": "markdown",
   "metadata": {},
   "source": [
    "`pip install clean-plot`"
   ]
  },
  {
   "cell_type": "markdown",
   "metadata": {},
   "source": [
    "## How to use"
   ]
  },
  {
   "cell_type": "markdown",
   "metadata": {},
   "source": [
    "The library contains easy to use methods for cleaning text, tokenizing sentences and lemmatizing sentences. These sentences can then be easily fed to a sentence encoder to create sentence embeddings."
   ]
  },
  {
   "cell_type": "code",
   "execution_count": null,
   "metadata": {},
   "outputs": [
    {
     "data": {
      "text/plain": [
       "\"MARLEY was dead: to begin with. There is no doubt\\nwhatever about that. The register of his burial was\\nsigned by the clergyman, the clerk, the undertaker,\\nand the chief mourner. Scrooge signed it: and\\nScrooge's name was good upon 'Change, for anything he\\nchose to put his hand to. Old Marley was as dead as a\\ndoor-nail.\\n\\nMind! I don't mean to say that I know, of my\\nown knowledge, what there is particularly dead about\\na door-nail. I might have been inclined, myself, to\\nregard a coffin-nail as the deadest piece of ironmongery\\nin the trade. But the wisdom of our ancestors\\nis in the simile; and my unhallowed hands\\nshall not disturb it, or the Country's done for. You\\nwill therefore permit me to repeat, emphatically, that\\nMarley was as dead as a door-nail.\""
      ]
     },
     "execution_count": null,
     "metadata": {},
     "output_type": "execute_result"
    }
   ],
   "source": [
    "fname = 'dummy.txt'\n",
    "text = get_data(fname)\n",
    "text"
   ]
  },
  {
   "cell_type": "code",
   "execution_count": null,
   "metadata": {},
   "outputs": [],
   "source": [
    "sentences = make_sentences(text)"
   ]
  },
  {
   "cell_type": "code",
   "execution_count": null,
   "metadata": {},
   "outputs": [
    {
     "data": {
      "text/plain": [
       "['MARLEY was dead: to begin with.',\n",
       " 'There is no doubt whatever about that.',\n",
       " 'The register of his burial was signed by the clergyman, the clerk, the undertaker, and the chief mourner.',\n",
       " \"Scrooge signed it: and Scrooge's name was good upon 'Change, for anything he chose to put his hand to.\",\n",
       " 'Old Marley was as dead as a door-nail.',\n",
       " 'Mind!',\n",
       " \"I don't mean to say that I know, of my own knowledge, what there is particularly dead about a door-nail.\",\n",
       " 'I might have been inclined, myself, to regard a coffin-nail as the deadest piece of ironmongery in the trade.',\n",
       " \"But the wisdom of our ancestors is in the simile; and my unhallowed hands shall not disturb it, or the Country's done for.\",\n",
       " 'You will therefore permit me to repeat, emphatically, that Marley was as dead as a door-nail.']"
      ]
     },
     "execution_count": null,
     "metadata": {},
     "output_type": "execute_result"
    }
   ],
   "source": [
    "sentences"
   ]
  },
  {
   "cell_type": "code",
   "execution_count": null,
   "metadata": {},
   "outputs": [],
   "source": [
    "no_punctuations = []\n",
    "for sentence in sentences:\n",
    "    new_sentence = remove_punctuations(sentence)\n",
    "    no_punctuations.append(new_sentence)"
   ]
  },
  {
   "cell_type": "code",
   "execution_count": null,
   "metadata": {},
   "outputs": [
    {
     "data": {
      "text/plain": [
       "['MARLEY was dead to begin with',\n",
       " 'There is no doubt whatever about that',\n",
       " 'The register of his burial was signed by the clergyman the clerk the undertaker and the chief mourner',\n",
       " 'Scrooge signed it and Scrooge s name was good upon Change for anything he chose to put his hand to',\n",
       " 'Old Marley was as dead as a door nail',\n",
       " 'Mind',\n",
       " 'I don t mean to say that I know of my own knowledge what there is particularly dead about a door nail',\n",
       " 'I might have been inclined myself to regard a coffin nail as the deadest piece of ironmongery in the trade',\n",
       " 'But the wisdom of our ancestors is in the simile and my unhallowed hands shall not disturb it or the Country s done for',\n",
       " 'You will therefore permit me to repeat emphatically that Marley was as dead as a door nail']"
      ]
     },
     "execution_count": null,
     "metadata": {},
     "output_type": "execute_result"
    }
   ],
   "source": [
    "no_punctuations"
   ]
  }
 ],
 "metadata": {
  "kernelspec": {
   "display_name": "Python 3 (ipykernel)",
   "language": "python",
   "name": "python3"
  }
 },
 "nbformat": 4,
 "nbformat_minor": 1
}
